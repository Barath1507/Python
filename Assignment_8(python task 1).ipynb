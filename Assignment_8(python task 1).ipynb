{
 "cells": [
  {
   "cell_type": "markdown",
   "id": "411633b1-a051-470a-811a-68dbf0bfe66e",
   "metadata": {},
   "source": [
    "# Assignment questions (Python Task 1)"
   ]
  },
  {
   "cell_type": "markdown",
   "id": "01682b5e-05ab-478d-888d-3bf5266ee357",
   "metadata": {},
   "source": [
    "#### Q1. Create a function which will take a list as an argument and return the product of all the numbers after creating a flat list. \n",
    "#### Use the below-given list as an argument for your function.\n",
    "#### list1 = [1,2,3,4, [44,55,66, True], False, (34,56,78,89,34), {1,2,3,3,2,1}, {1:34, \"key2\": [55, 67, 78, 89], 4: (45,22, 61, 34)}, [56, 'data science'], 'Machine Learning']\n",
    "#### Note: you must extract numeric keys and values of the dictionary also."
   ]
  },
  {
   "cell_type": "code",
   "execution_count": 4,
   "id": "c11a5d04-0bbc-4075-bc6e-9e9b59e39b71",
   "metadata": {},
   "outputs": [
    {
     "name": "stdout",
     "output_type": "stream",
     "text": [
      "The product of all the numbers in the list is: 335621713680284480844595200\n"
     ]
    }
   ],
   "source": [
    "def calculate_product(lst):\n",
    "    flat_list = []\n",
    "    \n",
    "    # flat the list\n",
    "    for item in lst:\n",
    "        if type(item)==list or type(item)== tuple:\n",
    "            flat_list.extend(item)\n",
    "        elif type(item)== dict:\n",
    "            for key, value in item.items():\n",
    "                if type(key)==int or type(value)== int:\n",
    "                    flat_list.append(key)\n",
    "                    flat_list.append(value)\n",
    "                elif type(value)==list or type(value)==tuple:\n",
    "                    flat_list.extend(value)\n",
    "        elif type(item)== int:\n",
    "            flat_list.append(item)\n",
    "        \n",
    "     #calculate product of all the numbers in the list\n",
    "    product = 1\n",
    "    for item in flat_list:\n",
    "            if type(item)==int:\n",
    "                product*=item\n",
    "    return product\n",
    "\n",
    "        \n",
    "list1 = [1,2,3,4, [44,55,66, True], False, (34,56,78,89,34), {1,2,3,3,2,1}, {1:34, \"key2\": [55, 67, 78, 89], 4: (45, 22, 61, 34)}, [56, 'data science'], 'Machine Learning']\n",
    "result = calculate_product(list1)\n",
    "print(\"The product of all the numbers in the list is:\", result)"
   ]
  },
  {
   "cell_type": "markdown",
   "id": "700895dc-b2e7-41b9-b72e-b326272275d3",
   "metadata": {},
   "source": [
    "#### Q2. Write a python program for encrypting a message sent to you by your friend. The logic of encryption should be such that, for a the output should be z. For b, the output should be y. For c, the output should be x respectively. Also, the whitespace should be replaced with a dollar sign. Keep the punctuation marks unchanged.\n",
    " #### Input Sentence: I want to become a Data Scientist.\n",
    " #### Encrypt the above input sentence using the program you just created."
   ]
  },
  {
   "cell_type": "code",
   "execution_count": 7,
   "id": "c71f93e4-574c-491c-8f53-c191e1dec8d1",
   "metadata": {},
   "outputs": [
    {
     "name": "stdout",
     "output_type": "stream",
     "text": [
      "Encrypted Message: h$vzms$sn$adbnld$z$czsz$rbhdmshrs.\n"
     ]
    }
   ],
   "source": [
    "def encrypt_message(message):\n",
    "    encrypted_message = \"\"\n",
    "    for char in message.lower():\n",
    "        if char.isalpha():\n",
    "            encrypted_message += chr(ord('a') + (ord(char) - ord('a') + 25) % 26)\n",
    "        elif char == \" \":\n",
    "            encrypted_message += \"$\"\n",
    "        else:\n",
    "            encrypted_message += char\n",
    "    return encrypted_message\n",
    "\n",
    "message = \"I want to become a Data Scientist.\"\n",
    "encrypted_message = encrypt_message(message)\n",
    "print(\"Encrypted Message:\", encrypted_message)"
   ]
  },
  {
   "cell_type": "code",
   "execution_count": 6,
   "id": "586a4a30-f45e-44b4-a8d0-e5f0aba5677f",
   "metadata": {},
   "outputs": [
    {
     "name": "stdout",
     "output_type": "stream",
     "text": [
      "Encrypted Message: r$dzmg$gl$yvxlnv$z$wzgz$hxrvmgrhg.\n"
     ]
    }
   ],
   "source": [
    "def encrypt_message(message):\n",
    "    encrypted_message = \"\"\n",
    "    for char in message.lower():\n",
    "        if char.isalpha():\n",
    "            encrypted_message += chr(ord('a') + ord('z')-ord(char) )\n",
    "        elif char == \" \":\n",
    "            encrypted_message += \"$\"\n",
    "        else:\n",
    "            encrypted_message += char\n",
    "    return encrypted_message\n",
    "\n",
    "message = \"I want to become a Data Scientist.\"\n",
    "encrypted_message = encrypt_message(message)\n",
    "print(\"Encrypted Message:\", encrypted_message)"
   ]
  },
  {
   "cell_type": "code",
   "execution_count": null,
   "id": "0afc4c5d-30d1-4d5e-87e1-b2af0536f395",
   "metadata": {},
   "outputs": [],
   "source": []
  }
 ],
 "metadata": {
  "kernelspec": {
   "display_name": "Python 3 (ipykernel)",
   "language": "python",
   "name": "python3"
  },
  "language_info": {
   "codemirror_mode": {
    "name": "ipython",
    "version": 3
   },
   "file_extension": ".py",
   "mimetype": "text/x-python",
   "name": "python",
   "nbconvert_exporter": "python",
   "pygments_lexer": "ipython3",
   "version": "3.10.8"
  }
 },
 "nbformat": 4,
 "nbformat_minor": 5
}
