{
 "cells": [
  {
   "cell_type": "markdown",
   "id": "9452f4f6-0bea-41a7-a304-866cd567a06e",
   "metadata": {},
   "source": [
    "## Assignment Questions"
   ]
  },
  {
   "cell_type": "markdown",
   "id": "f0cd47c4-66ec-4b3e-ac72-d4b677e89566",
   "metadata": {},
   "source": [
    "#### Q1. Explain Class and Object with respect to Object-Oriented Programming. Give a suitable example."
   ]
  },
  {
   "cell_type": "markdown",
   "id": "71d5c725-f3b7-401b-b7de-1bdc841c4c55",
   "metadata": {},
   "source": [
    "Class and object are two key concepts in object-oriented programming (OOP).\n",
    "\n",
    "A class is a blueprint for creating objects (a particular data structure), providing initial values for state (member variables or attributes), and implementations of behavior (member functions or methods).\n",
    "\n",
    "An object is an instance of a class, which has a state and behavior. Objects are also called instances, and they can be created from a class. An object can have attributes (data) and methods (functions) associated with it. The state of an object represents data (value) that is stored in its attributes, while behavior represents the actions that the object can perform.\n",
    "\n",
    "For example,"
   ]
  },
  {
   "cell_type": "code",
   "execution_count": 5,
   "id": "707a6b03-0d0a-47db-a643-9230f7a56903",
   "metadata": {},
   "outputs": [
    {
     "name": "stdout",
     "output_type": "stream",
     "text": [
      "Hi, I'm Barath and I'm 18 years old.\n"
     ]
    }
   ],
   "source": [
    "class Person:\n",
    "    def __init__(self, name, age, gender):\n",
    "        self.name = name\n",
    "        self.age = age\n",
    "        self.gender = gender\n",
    "\n",
    "    def speak(self):\n",
    "        print(f\"Hi, I'm {self.name} and I'm {self.age} years old.\")\n",
    "\n",
    "person = Person(\"Barath\", 18, \"Male\")\n",
    "person.speak() "
   ]
  },
  {
   "cell_type": "markdown",
   "id": "bebb1d3e-47cb-4a3b-abaa-942f9a0e2a8c",
   "metadata": {},
   "source": [
    "In this example, the class \"Person\" is a blueprint for creating objects, and the object person is an instance of the class. The person object has attributes such as name, age, and gender, and it also has a method speak() that can be used to print a message to the console."
   ]
  },
  {
   "cell_type": "markdown",
   "id": "18e3c939-4e80-42d1-adb5-52104e41081f",
   "metadata": {},
   "source": [
    "#### Q2. Name the four pillars of OOPs."
   ]
  },
  {
   "cell_type": "markdown",
   "id": "731f9b14-41cf-4c99-b613-ae0aa22c4d35",
   "metadata": {},
   "source": [
    "The four pillars of object-oriented programming (OOP) are:\n",
    "\n",
    "**Abstraction:** Abstraction refers to the process of hiding the implementation details from the user and showing only the necessary information. This helps to reduce the complexity of the code and make it more manageable.\n",
    "\n",
    "**Encapsulation:** Encapsulation is the mechanism of wrapping data and functions within an object, making it protected and hidden from other objects. This ensures the data is safe and secure and can only be accessed through the object's methods.\n",
    "\n",
    "**Inheritance:** Inheritance is a mechanism by which a new class can be derived from an existing class. The new class inherits all the properties and behaviors of the existing class and can also add new properties and behaviors of its own.\n",
    "\n",
    "**Polymorphism:** Polymorphism refers to the ability of objects to take on many forms. In other words, the same method name can be used to perform different actions depending on the context in which it is used. This allows for code reuse and makes the code more flexible and easier to maintain."
   ]
  },
  {
   "cell_type": "markdown",
   "id": "91ddd992-7c09-43c9-ab0f-780b9e165a6d",
   "metadata": {},
   "source": [
    "#### Q3. Explain why the init() function is used. Give a suitable example"
   ]
  },
  {
   "cell_type": "markdown",
   "id": "e02abd2e-d6a7-4f70-a3f5-99908382bd8e",
   "metadata": {},
   "source": [
    "The __init__ method, also known as the constructor method, is a special method in Python classes that is automatically called when an object of the class is created. It is used to initialize the attributes of the class and set their default values.\n",
    "\n",
    "The __init__ method is defined using the __init__ keyword, followed by the parameters that the method takes. These parameters can be used to set the initial values for the attributes of the class. When an object is created, these values are passed to the __init__ method and used to set the initial state of the object.\n",
    "\n",
    "Here's an example to illustrate the use of the __init__ method:"
   ]
  },
  {
   "cell_type": "code",
   "execution_count": 8,
   "id": "b7c55629-4539-4704-ada4-49899230dc9f",
   "metadata": {},
   "outputs": [
    {
     "name": "stdout",
     "output_type": "stream",
     "text": [
      "Fido\n",
      "Labrador\n",
      "3\n"
     ]
    }
   ],
   "source": [
    "class Dog:\n",
    "    def __init__(self, name, breed, age):\n",
    "        self.name = name\n",
    "        self.breed = breed\n",
    "        self.age = age\n",
    "\n",
    "dog = Dog(\"Fido\", \"Labrador\", 3)\n",
    "print(dog.name) \n",
    "\n",
    "print(dog.breed) \n",
    "\n",
    "print(dog.age)"
   ]
  },
  {
   "cell_type": "markdown",
   "id": "9143b30e-c09d-4d8b-87e1-6e466ff1c51e",
   "metadata": {},
   "source": [
    "#### Q4. Why self is used in OOPs?"
   ]
  },
  {
   "cell_type": "markdown",
   "id": "462f267d-aff0-45fe-9ef5-34fe86ff5a98",
   "metadata": {},
   "source": [
    "In object-oriented programming (OOP), self is a reference to the current instance of the class and is used to access the attributes and methods of the class."
   ]
  },
  {
   "cell_type": "markdown",
   "id": "37efad58-9264-4ffc-80f3-2eb019baa17f",
   "metadata": {},
   "source": [
    "#### Q5. What is inheritance? Give an example for each type of inheritance."
   ]
  },
  {
   "cell_type": "markdown",
   "id": "cc6f6f72-7d79-4517-88b0-72049c140e59",
   "metadata": {},
   "source": [
    "Inheritance is a mechanism in object-oriented programming (OOP) that allows a new class to inherit the properties and methods of an existing class. The new class is called the derived class or subclass, and the existing class is called the base class or superclass.\n",
    "\n",
    "There are several types of inheritance, including:\n",
    "\n",
    "Single inheritance: In single inheritance, a derived class inherits from a single base class. This is the most basic form of inheritance and is used when a subclass needs to inherit the properties and methods of a single superclass.\n",
    "\n",
    "Multiple inheritance: In multiple inheritance, a derived class inherits from multiple base classes. This type of inheritance is used when a subclass needs to inherit the properties and methods of multiple superclasses.\n",
    "\n",
    "Multi-level Inheritance: A derived class inherits from a base class, which itself inherits from another base class.\n",
    "\n",
    "Hierarchical inheritance: In hierarchical inheritance, a base class is inherited by multiple derived classes. This type of inheritance is used when multiple subclasses need to inherit from a common superclass."
   ]
  }
 ],
 "metadata": {
  "kernelspec": {
   "display_name": "Python 3 (ipykernel)",
   "language": "python",
   "name": "python3"
  },
  "language_info": {
   "codemirror_mode": {
    "name": "ipython",
    "version": 3
   },
   "file_extension": ".py",
   "mimetype": "text/x-python",
   "name": "python",
   "nbconvert_exporter": "python",
   "pygments_lexer": "ipython3",
   "version": "3.10.8"
  }
 },
 "nbformat": 4,
 "nbformat_minor": 5
}
