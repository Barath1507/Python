{
 "cells": [
  {
   "cell_type": "markdown",
   "id": "333cf2bb-88c0-4f40-83bc-a696ccf32711",
   "metadata": {},
   "source": [
    "## Assignment Questions"
   ]
  },
  {
   "cell_type": "markdown",
   "id": "eefe7afb-7daa-4e8b-9432-479a6710d7e1",
   "metadata": {
    "tags": []
   },
   "source": [
    "#### 1) Who developed Python Programming Language?\n",
    "Guido van Rossum is the creator of the Python programming language.\n",
    "\n",
    "\n",
    "\n"
   ]
  },
  {
   "cell_type": "markdown",
   "id": "07b143e6-c6da-4e32-9238-be875e67e9be",
   "metadata": {},
   "source": [
    "#### 2)Which type of Programming does Python support?\n",
    "Python supports multiple programming paradigms, including procedural, object-oriented, and functional programming."
   ]
  },
  {
   "cell_type": "markdown",
   "id": "5f4b6292-a9b0-47fc-b345-35aa30580ea8",
   "metadata": {},
   "source": [
    "#### 3) Is Python case sensitive when dealing with identifiers?\n",
    "Yes, Python is case sensitive when dealing with identifiers. For example, a variable named \"String\" is different from \"string\"."
   ]
  },
  {
   "cell_type": "markdown",
   "id": "b0cb897f-2a02-44c8-8419-66d35f054dfb",
   "metadata": {},
   "source": [
    "#### 4) What is the correct extension of the Python file?\n",
    " .py is the extension of python file and .ipynb is the extension of ipython notebook."
   ]
  },
  {
   "cell_type": "markdown",
   "id": "520c31da-e40c-4a72-8c45-af047ae9eeca",
   "metadata": {},
   "source": [
    "#### 5) Is Python code compiled or interpreted?\n",
    "Python code is interpreted, not compiled. When you run a Python script, the interpreter reads the code and executes it line by line, rather than converting the entire code into machine code and running it as a standalone executable."
   ]
  },
  {
   "cell_type": "markdown",
   "id": "e2d2e6e5-f31d-4e53-ac62-5eb9c5b2ec21",
   "metadata": {},
   "source": [
    "#### 6) Name a few blocks of code used to define in Python language? \n",
    "In Python, blocks of code are defined using indentation. Some common blocks of code used in Python include:\n",
    "\n",
    "Functions:defined using the \"def\" keyword, a function is a reusable block of code that takes inputs (arguments) and returns an output.\n",
    "\n",
    "Classes: defined using the \"class\" keyword, a class is a blueprint for creating objects (instances) and provides a way to organize and structure code.\n",
    "\n",
    "Loops: used to repeat a block of code multiple times, Python has \"for\" and \"while\" loops. Conditional statements: used to make decisions based on whether a condition is met, Python has \"if\" and \"if-else\" statements."
   ]
  },
  {
   "cell_type": "markdown",
   "id": "0345a95f-a076-427b-9cfb-0b074b264222",
   "metadata": {},
   "source": [
    "#### 7) State a character used to give single-line comments in Python? \n",
    "The \"#\" symbol is used to give single-line comments in Python."
   ]
  },
  {
   "cell_type": "markdown",
   "id": "717081fc-60c9-4ffe-b6dd-1f19d16647b2",
   "metadata": {
    "tags": []
   },
   "source": [
    "#### 8) Mention functions which can help us to find the version of python that we are currently working on?\n",
    "**i)** sys.version: Returns a string that contains information about the version of Python, including the version number, build date, and compiler information.\n",
    "\n",
    "**ii)** sys.version_info: Returns a named tuple that contains the version information for the Python interpreter. The tuple includes information such as the major version number, minor version number, and micro version number.\n",
    "\n",
    "**iii)** platform.python_version(): Returns a string that contains the version of Python you're currently using."
   ]
  },
  {
   "cell_type": "markdown",
   "id": "a69235e2-f7d7-48d6-97c5-2c250acf4a59",
   "metadata": {},
   "source": [
    "#### 9)Python supports the creation of anonymous functions at runtime, using a construct called?\n",
    "Python supports the creation of anonymous functions at runtime using a construct called \"lambda functions\". A lambda function is a small, one-line function that does not have a name and is used for simple operations. They are often used as arguments for higher-order functions (functions that take other functions as input). Syntactically, a lambda function is defined using the \"lambda\" keyword followed by one or more arguments, a colon, and the expression to be evaluated."
   ]
  },
  {
   "cell_type": "markdown",
   "id": "f28eef3a-ae12-40bd-80ea-560aeda7bda5",
   "metadata": {
    "jp-MarkdownHeadingCollapsed": true,
    "tags": []
   },
   "source": [
    "#### 10) What does pip stand for python?\n",
    " PIP - Preferred Installer Program, it is a command-line utility that installs, reinstalls, or uninstalls PyPI packages. \"pip\" stands for \"Pip Installs Packages\". It is a package management system used to install and manage packages and modules in Python. With pip, you can easily install, upgrade, and remove packages for your Python projects."
   ]
  },
  {
   "cell_type": "markdown",
   "id": "17268072-541c-48fb-a0ab-b18dade26de1",
   "metadata": {},
   "source": [
    "#### 11) Mention a few built-in functions in python?\n",
    "##### Here are a few built-in functions in Python:\n",
    "\n",
    "1. print() outputs text or variables to the console.\n",
    "\n",
    "2. len(): returns the length of an object, such as a string, list, or tuple. \n",
    "\n",
    "3. sum(); returns the sum of the elements in an iterable\n",
    "\n",
    "4. \"min()\" and \"max() return the minimum and maximum values in an iterable, respectively.\n",
    "\n",
    "5. str() and int(): convert objects to strings and integers, respectively.\n",
    "\n",
    "6. type() returns the type of an object\n",
    "\n",
    "7. range() generates a sequence of numbers\n",
    "\n",
    "8. \"abs(): returns the absolute value of a number\n",
    "\n",
    "9. sorted() sorts an iterable.\n",
    "\n",
    "10. enumerate() adds a counter to an iterable and returns it in a form of enumerate object"
   ]
  },
  {
   "cell_type": "markdown",
   "id": "eef6d94d-d052-4860-abdb-1131e4257464",
   "metadata": {},
   "source": [
    "#### 12) What is the maximum possible length of an identifier in Python?\n",
    "An identifier can have a maximum length of 79 characters in Python."
   ]
  },
  {
   "cell_type": "markdown",
   "id": "166a9751-f9e5-43d3-976a-9bae9b501180",
   "metadata": {},
   "source": [
    "#### 13) What are the benefits of using Python?\n",
    "There are many benefits to using Python, some of which include:\n",
    "\n",
    "1. Easy to learn and use: Python has a simple and straightforward syntax that is easy to read and write, making it a great choice for beginners. \n",
    "2. Versatile: Python is used for a wide range of applications, including web development scientific computing, data analysis, artificial intelligence, and more. \n",
    "3. Large and active community Python has a large and active community of users and developers who contribute to its growth and development. This means that there is a wealth of resources, libraries, and support available for Python users \n",
    "4. Large standard library Python has a large and comprehensive standard library that includes modules for a wide range of tasks, such as connecting to web servers, reading and writing files, and working with data \n",
    "5. Cross-platform compatibility: Python can run on various operating systems, including Windows, macOS and Linux, making it a great choice for cross-platform development.\n",
    "6. Dynamic typing Python uses dynamic typing, meaning that you don't need to specify the type of a variable when you declare it, making it more flexible and easier to work with\n",
    "\n",
    "These are just a few of the benefits of using Python, Overall, it is a powerful, versatile, and accessible programming language that is well-suited to a wide range of tasks and applications"
   ]
  },
  {
   "cell_type": "markdown",
   "id": "2f4f1b54-eaa1-4bd1-8612-47ef5629ee71",
   "metadata": {},
   "source": [
    "#### 14) How is memory managed in Python?\n",
    "In Python, memory management is handled automatically by the Python interpreter, using a combination of reference counting and garbage collection. Memory in Python is managed by Python private heap space. All Python objects and data structures are located in a private heap. This private heap is taken care of by Python Interpreter itself, and a programmer doesn't have access to this private heap."
   ]
  },
  {
   "cell_type": "markdown",
   "id": "7f5f1ef8-5776-4d95-b46c-bce302870c80",
   "metadata": {},
   "source": [
    "#### 15) How to install Python on Windows and set path variables?\n",
    "Here are the steps to install Python on Windows and set the path variables:\n",
    "\n",
    "1. Download the latest version of Python from the official Python website (https://www.python.org/downloads/)\n",
    "2. Run the Python installation file and follow the instructions to install Python on your Windows computer. \n",
    "3. Open the Start menu, search for \"Environment Variables\" and select \"Edit the system environment variables.\" \n",
    "4. In the System Properties window, click on the \"Environment Variables\" button.\n",
    "5. Scroll down to the \"System Variables section, and find the \"Path\" variable. Click on \"Edit\" to modify the path.\n",
    "6. Add the path to the Python executable file to the \"Path\" variable. On most systems, this will be something like \"C:\\PythonXX\\Scripts\" or \"C\\PythonXX\\python.exe\", where \"XX\" represents the version number of Python you have installed. \n",
    "7. Restart your computer for the changes to take effect."
   ]
  },
  {
   "cell_type": "markdown",
   "id": "e64a814f-b7df-483d-b171-522eeed2ae91",
   "metadata": {},
   "source": [
    "#### 16) Is indentation required in python?"
   ]
  }
 ],
 "metadata": {
  "kernelspec": {
   "display_name": "Python 3 (ipykernel)",
   "language": "python",
   "name": "python3"
  },
  "language_info": {
   "codemirror_mode": {
    "name": "ipython",
    "version": 3
   },
   "file_extension": ".py",
   "mimetype": "text/x-python",
   "name": "python",
   "nbconvert_exporter": "python",
   "pygments_lexer": "ipython3",
   "version": "3.10.8"
  }
 },
 "nbformat": 4,
 "nbformat_minor": 5
}
