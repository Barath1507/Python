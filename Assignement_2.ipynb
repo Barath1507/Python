{
 "cells": [
  {
   "cell_type": "markdown",
   "id": "5a9e664d-9c01-48c6-adb9-6227cc33e6f5",
   "metadata": {},
   "source": [
    "## Assignment Questions"
   ]
  },
  {
   "attachments": {
    "53eac08b-2f00-461f-9ec9-43cda949ba9f.png": {
     "image/png": "[encoded data removed]"
    }
   },
   "cell_type": "markdown",
   "id": "192e69d1-e706-48ee-889e-9d3ba47e7ad1",
   "metadata": {},
   "source": [
    "#### 1) Write a program to accept percentage from the user and display the grade according to the following criteria:\n",
    "![image.png](attachment:53eac08b-2f00-461f-9ec9-43cda949ba9f.png)"
   ]
  },
  {
   "cell_type": "code",
   "execution_count": 10,
   "id": "6a437004-8f68-4243-8683-f123bcd1716a",
   "metadata": {},
   "outputs": [
    {
     "name": "stdin",
     "output_type": "stream",
     "text": [
      "Enter percentage:  50\n"
     ]
    },
    {
     "name": "stdout",
     "output_type": "stream",
     "text": [
      "Grade: D\n"
     ]
    }
   ],
   "source": [
    "percentage =int(input(\"Enter percentage: \"))\n",
    "\n",
    "if(percentage>=90):\n",
    "    print(\"Grade: A\")\n",
    "elif(percentage>=80)&(percentage<=90):\n",
    "    print(\"Grade: B\")\n",
    "elif(percentage>=60)&(percentage<=80):\n",
    "    print(\"Grade: C\")\n",
    "else:\n",
    "    print(\"Grade: D\")"
   ]
  },
  {
   "attachments": {
    "cef3478e-6aeb-428a-bff2-467fcc81fba6.png": {
     "image/png": "[encoded data removed]"
    }
   },
   "cell_type": "markdown",
   "id": "6b4b0982-6ba1-43f5-834e-70e4c9fccc7e",
   "metadata": {},
   "source": [
    "#### 2) Write a program to accept the cost price of a bike and display the road tax to be paid according to the following criteria.\n",
    "![image.png](attachment:cef3478e-6aeb-428a-bff2-467fcc81fba6.png)"
   ]
  },
  {
   "cell_type": "code",
   "execution_count": 3,
   "id": "3b575ef7-9ebc-447d-8075-fac6f36f8478",
   "metadata": {},
   "outputs": [
    {
     "name": "stdin",
     "output_type": "stream",
     "text": [
      "Enter the cost price of bike: 90000\n"
     ]
    },
    {
     "name": "stdout",
     "output_type": "stream",
     "text": [
      "Road tax to be paid is: 9000.0\n"
     ]
    }
   ],
   "source": [
    "cost_of_bike=int(input(\"Enter the cost price of bike:\"))\n",
    "if(cost_of_bike>1000000):\n",
    "    print(\"Road tax to be paid is:\",cost_of_bike*0.15)\n",
    "elif(cost_of_bike>50000 and cost_of_bike<=1000000):\n",
    "    print(\"Road tax to be paid is:\",cost_of_bike*0.10)\n",
    "elif(cost_of_bike<=50000): \n",
    "    print(\"Road tax to be paid is:\",cost_of_bike*0.05)"
   ]
  },
  {
   "attachments": {
    "47999617-f77f-4f8f-817e-2caffd3e6fb7.png": {
     "image/png": "[encoded data removed]"
    }
   },
   "cell_type": "markdown",
   "id": "f1113594-445e-4e8e-a90f-c51d7305f0f4",
   "metadata": {},
   "source": [
    "#### 3) Accept any city from the user and display the monuments of that city.\n",
    "![image.png](attachment:47999617-f77f-4f8f-817e-2caffd3e6fb7.png)"
   ]
  },
  {
   "cell_type": "code",
   "execution_count": 4,
   "id": "98d5930c-7faf-43ef-b3b9-a9bb7f419b37",
   "metadata": {},
   "outputs": [
    {
     "name": "stdin",
     "output_type": "stream",
     "text": [
      "Enter the city: delhi\n"
     ]
    },
    {
     "name": "stdout",
     "output_type": "stream",
     "text": [
      "Monument of the delhi is Red Fort\n"
     ]
    }
   ],
   "source": [
    "\n",
    "city=input(\"Enter the city:\")\n",
    "if(city=='Delhi' or city=='delhi'):\n",
    "    print(f\"Monument of the {city} is Red Fort\")\n",
    "elif(city=='Agra' or city=='agra'):\n",
    "    print(f\"Monument of the {city} is Taj Mahal\")\n",
    "elif(city=='Jaipur' or city=='jaipur'):\n",
    "    print(f\"Monument of the {city} is Jal Mahal\")  \n",
    "else:\n",
    "    print(f\"Monument details are not available for the {city} you entered\")"
   ]
  },
  {
   "cell_type": "markdown",
   "id": "cd199803-5044-4c64-bde8-8de3bb62a8f6",
   "metadata": {},
   "source": [
    "#### 4) Check how many times a given number is divided by 3 before it is less than or equal to 10.\n"
   ]
  },
  {
   "cell_type": "code",
   "execution_count": 5,
   "id": "5e47aafd-6922-4c75-96fd-15b0e1d098fc",
   "metadata": {},
   "outputs": [
    {
     "name": "stdin",
     "output_type": "stream",
     "text": [
      "Enter the number 33\n"
     ]
    },
    {
     "name": "stdout",
     "output_type": "stream",
     "text": [
      "Number of times divided by 3 is 2 times\n"
     ]
    }
   ],
   "source": [
    "number=int(input(\"Enter the number:\"))\n",
    "count=0\n",
    "while number>10:\n",
    "    number=number/3\n",
    "    count=count+1\n",
    "print(\"Number of times divided by 3 is {} times\".format(count))\n",
    "    "
   ]
  },
  {
   "cell_type": "markdown",
   "id": "178e67af-8ea9-4e90-b3e0-598d90c40228",
   "metadata": {},
   "source": [
    "#### 5) Why and when to use While loop in python give a detailed description with example"
   ]
  },
  {
   "cell_type": "markdown",
   "id": "5d8dd2b0-7ab0-4adc-a708-f3c152024e62",
   "metadata": {},
   "source": [
    " while loop in Python is used to repeatedly execute a block of code as long as a given condition is true. It allows you to repeatedly perform an operation until a desired condition is met.\n",
    "\n",
    "Here's the general syntax of a while loop in Python:\n",
    "while condition:\n",
    "    # code to be executed\n",
    "    \n",
    "The condition is a boolean expression that is evaluated before each iteration of the loop. If the condition is True, the code inside the loop will be executed. The loop will continue to run until the condition is False. A while statement is a loop. Basically, it continues to execute the code in the while statement for however long the expression is true."
   ]
  },
  {
   "cell_type": "code",
   "execution_count": 7,
   "id": "401eeb8e-1f53-419d-936c-9d4b3a2aa0a4",
   "metadata": {},
   "outputs": [
    {
     "name": "stdout",
     "output_type": "stream",
     "text": [
      "Number of even numbers: 5\n"
     ]
    }
   ],
   "source": [
    "numbers = [1, 2, 3, 4, 5, 6, 7, 8, 9, 10]\n",
    "\n",
    "even_count = 0\n",
    "index = 0\n",
    "\n",
    "while index < len(numbers):\n",
    "    if numbers[index] % 2 == 0:\n",
    "        even_count += 1\n",
    "    index += 1\n",
    "\n",
    "print(\"Number of even numbers:\", even_count)"
   ]
  },
  {
   "cell_type": "markdown",
   "id": "7d1ccdfa-447f-4de0-8a7b-ccf9c6913737",
   "metadata": {},
   "source": [
    "In this example, the while loop will continue to run until the index variable is no longer less than the length of the numbers list. Inside the loop, we check if each number in the list is even by checking if it is divisible by 2. If it is, we increment the even_count variable by 1.\n",
    "\n",
    "It's important to be careful when using while loops, as they can potentially run indefinitely if the condition is never met. To avoid this, make sure the condition will eventually evaluate to False, or include a way to break out of the loop if necessary."
   ]
  },
  {
   "cell_type": "markdown",
   "id": "227a12e3-826c-49d1-bd6e-098e59e9783d",
   "metadata": {},
   "source": [
    "#### 6) Use nested while loop to print 3 different patterns"
   ]
  },
  {
   "cell_type": "code",
   "execution_count": 11,
   "id": "b4b593d0-2edb-4452-a5c1-fad349e94751",
   "metadata": {},
   "outputs": [
    {
     "name": "stdout",
     "output_type": "stream",
     "text": [
      "*\n",
      "**\n",
      "***\n",
      "****\n",
      "*****\n"
     ]
    }
   ],
   "source": [
    "#i) Triangle pattern\n",
    "rows = 5\n",
    "\n",
    "for i in range(1, rows + 1):\n",
    "    j = 1\n",
    "    while j <= i:\n",
    "        print(\"*\", end=\"\")\n",
    "        j = j + 1\n",
    "    print()"
   ]
  },
  {
   "cell_type": "code",
   "execution_count": 12,
   "id": "bdd2deb7-0611-4882-8d2b-8bd55091b4c9",
   "metadata": {},
   "outputs": [
    {
     "name": "stdout",
     "output_type": "stream",
     "text": [
      "*****\n",
      "****\n",
      "***\n",
      "**\n",
      "*\n"
     ]
    }
   ],
   "source": [
    "#ii) Inverted triangle pattern\n",
    "rows = 5\n",
    "\n",
    "for i in range(rows, 0, -1):\n",
    "    j = 1\n",
    "    while j <= i:\n",
    "        print(\"*\", end=\"\")\n",
    "        j = j + 1\n",
    "    print()"
   ]
  },
  {
   "cell_type": "code",
   "execution_count": 13,
   "id": "10f99dba-ffca-4d29-bd5c-5f86708324db",
   "metadata": {},
   "outputs": [
    {
     "name": "stdout",
     "output_type": "stream",
     "text": [
      "    *\n",
      "   ***\n",
      "  *****\n",
      " *******\n",
      "*********\n",
      " *******\n",
      "  *****\n",
      "   ***\n",
      "    *\n"
     ]
    }
   ],
   "source": [
    "# iii) Diamond pattern\n",
    "rows = 5\n",
    "\n",
    "for i in range(1, rows + 1):\n",
    "    spaces = rows - i\n",
    "    while spaces > 0:\n",
    "        print(\" \", end=\"\")\n",
    "        spaces = spaces - 1\n",
    "\n",
    "    stars = 2 * i - 1\n",
    "    while stars > 0:\n",
    "        print(\"*\", end=\"\")\n",
    "        stars = stars - 1\n",
    "    print()\n",
    "\n",
    "for i in range(rows - 1, 0, -1):\n",
    "    spaces = rows - i\n",
    "    while spaces > 0:\n",
    "        print(\" \", end=\"\")\n",
    "        spaces = spaces - 1\n",
    "\n",
    "    stars = 2 * i - 1\n",
    "    while stars > 0:\n",
    "        print(\"*\", end=\"\")\n",
    "        stars = stars - 1\n",
    "    print()\n"
   ]
  },
  {
   "cell_type": "code",
   "execution_count": 17,
   "id": "036ee5ef-c86d-449e-a607-fa518c28890a",
   "metadata": {},
   "outputs": [
    {
     "name": "stdout",
     "output_type": "stream",
     "text": [
      "0 1 2 3 4 5 6 7 8 9 10 \n",
      "0 2 4 6 8 10 12 14 16 18 20 \n",
      "0 3 6 9 12 15 18 21 24 27 30 \n",
      "0 4 8 12 16 20 24 28 32 36 40 \n"
     ]
    }
   ],
   "source": [
    "#1 to 4 Table\n",
    "i = 1\n",
    "while i <= 4 :\n",
    "    j = 0\n",
    "    while  j <= 10 :\n",
    "        print(i*j, end=\" \")\n",
    "        j += 1\n",
    "    print()\n",
    "    i += 1"
   ]
  },
  {
   "cell_type": "markdown",
   "id": "dcb566df-5fbd-47c6-8879-54c1c884141f",
   "metadata": {},
   "source": [
    "#### 7) Reverse a while loop to display numbers from 10 to 1\n"
   ]
  },
  {
   "cell_type": "code",
   "execution_count": 15,
   "id": "db1ff404-82ec-46e1-a98e-69ac96f5456b",
   "metadata": {},
   "outputs": [
    {
     "name": "stdout",
     "output_type": "stream",
     "text": [
      "10\n",
      "9\n",
      "8\n",
      "7\n",
      "6\n",
      "5\n",
      "4\n",
      "3\n",
      "2\n",
      "1\n"
     ]
    }
   ],
   "source": [
    "i = 10\n",
    "while i > 0:\n",
    "    print(i)\n",
    "    i = i - 1"
   ]
  },
  {
   "cell_type": "markdown",
   "id": "71d12eeb-b95f-478d-8a37-d52c4310688e",
   "metadata": {},
   "source": [
    "#### 8) Reverse a while loop to display numbers from 10 to 1\n"
   ]
  },
  {
   "cell_type": "code",
   "execution_count": 16,
   "id": "c0bdad1c-1e83-41c9-904d-2342d4d705a6",
   "metadata": {},
   "outputs": [
    {
     "name": "stdout",
     "output_type": "stream",
     "text": [
      "10\n",
      "9\n",
      "8\n",
      "7\n",
      "6\n",
      "5\n",
      "4\n",
      "3\n",
      "2\n",
      "1\n"
     ]
    }
   ],
   "source": [
    "i = 10\n",
    "while i > 0:\n",
    "    print(i)\n",
    "    i = i - 1"
   ]
  }
 ],
 "metadata": {
  "kernelspec": {
   "display_name": "Python 3 (ipykernel)",
   "language": "python",
   "name": "python3"
  },
  "language_info": {
   "codemirror_mode": {
    "name": "ipython",
    "version": 3
   },
   "file_extension": ".py",
   "mimetype": "text/x-python",
   "name": "python",
   "nbconvert_exporter": "python",
   "pygments_lexer": "ipython3",
   "version": "3.10.8"
  }
 },
 "nbformat": 4,
 "nbformat_minor": 5
}
