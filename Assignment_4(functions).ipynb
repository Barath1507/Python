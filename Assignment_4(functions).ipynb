{
 "cells": [
  {
   "cell_type": "markdown",
   "id": "f90220a8-9e06-4f29-8175-31846df6e077",
   "metadata": {},
   "source": [
    "# Assignement Questions"
   ]
  },
  {
   "cell_type": "markdown",
   "id": "ff84f45b-73b1-4725-8333-794e060ef263",
   "metadata": {},
   "source": [
    "#### 1) Which keyword is used to create a function? Create a function to return a list of odd numbers in the range of 1 to 25."
   ]
  },
  {
   "cell_type": "markdown",
   "id": "973ee3ff-0c40-4699-8ddc-25abd479424e",
   "metadata": {},
   "source": [
    "The keyword \"def\" is used to create a function in Python"
   ]
  },
  {
   "cell_type": "code",
   "execution_count": 3,
   "id": "987c3ec0-f325-4f4b-93f5-63154aa0fbf4",
   "metadata": {},
   "outputs": [],
   "source": [
    "def odd_numbers():\n",
    "    odd_list = []\n",
    "    for i in range(1, 26):\n",
    "        if i % 2 != 0:\n",
    "            odd_list.append(i)\n",
    "    return odd_list"
   ]
  },
  {
   "cell_type": "code",
   "execution_count": 5,
   "id": "6781d496-f66c-4133-a4d1-793f3b72a3c3",
   "metadata": {},
   "outputs": [
    {
     "data": {
      "text/plain": [
       "[1, 3, 5, 7, 9, 11, 13, 15, 17, 19, 21, 23, 25]"
      ]
     },
     "execution_count": 5,
     "metadata": {},
     "output_type": "execute_result"
    }
   ],
   "source": [
    "odd_numbers()"
   ]
  },
  {
   "cell_type": "markdown",
   "id": "46b9a369-483c-46a3-9c9e-61adcc99af2e",
   "metadata": {},
   "source": [
    "#### 2) Why args and kwargs is used in some functions? Create a function each for args and **kwargs to demonstrate their use."
   ]
  },
  {
   "cell_type": "markdown",
   "id": "1325a447-e608-426c-821c-0e0fc7a03acf",
   "metadata": {},
   "source": [
    "*args\" and \"**kwargs\" are used in functions as a way to allow a flexible number of arguments to be passed to the function.\n",
    "\n",
    "**\"*args\"*** is used to send a non-keyworded variable length argument list to the function. In other words, the arguments passed to *args will be passed as a list.\n",
    "\n",
    "Here's an example of a function that uses *args:"
   ]
  },
  {
   "cell_type": "code",
   "execution_count": 7,
   "id": "b935e83a-5c3f-4a2e-a69c-7cf54e25e46a",
   "metadata": {},
   "outputs": [
    {
     "name": "stdout",
     "output_type": "stream",
     "text": [
      "6\n",
      "30\n"
     ]
    }
   ],
   "source": [
    "def add(*args):\n",
    "    sum=0\n",
    "    for i in args:\n",
    "        sum=sum+i\n",
    "    return sum\n",
    "print(add(1,2,3))\n",
    "print(add(4,5,6,7,8))"
   ]
  },
  {
   "cell_type": "markdown",
   "id": "d824f07a-8990-4841-a4b0-e0ad5cb19922",
   "metadata": {},
   "source": [
    "\"****kwargs\"** allows you to pass keyworded variable length of arguments to a function. The arguments passed to **kwargs will be passed as a dictionary.\n",
    "\n",
    "Here's an example of a function that uses **kwargs:"
   ]
  },
  {
   "cell_type": "code",
   "execution_count": 8,
   "id": "926c2870-ab5b-4393-9a07-07988ae393c6",
   "metadata": {},
   "outputs": [
    {
     "name": "stdout",
     "output_type": "stream",
     "text": [
      "{'name': 'Barath', 'age': 20}\n",
      "{'name': 'sathish', 'age': 19, 'address': 'Ranipet'}\n"
     ]
    }
   ],
   "source": [
    "## **kwargs\n",
    "def customer(**kwargs):\n",
    "    print(kwargs)\n",
    "customer(name=\"Barath\",age=20)\n",
    "customer(name=\"sathish\",age=19,address=\"Ranipet\")\n"
   ]
  },
  {
   "cell_type": "markdown",
   "id": "a3e907b6-0332-47cb-a4a2-83867006227b",
   "metadata": {},
   "source": [
    "#### 3) What is an iterator in python? Name the method used to initialise the iterator object and the method used for iteration. Use these methods to print the first five elements of the given list [2, 4, 6, 8, 10, 12, 14, 16, 18, 20]."
   ]
  },
  {
   "cell_type": "markdown",
   "id": "2d6742cb-51d9-4474-9500-4b9b64e8bc6a",
   "metadata": {},
   "source": [
    "An iterator in Python is an object that can be iterated (looped) upon. An object which will return data, one element at a time.\n",
    "\n",
    "In Python, an iterator is created using the iter() method. The method next() is used for iteration, which returns the next value in the iterable until a StopIteration error is raised, indicating that there are no more values to be returned."
   ]
  },
  {
   "cell_type": "code",
   "execution_count": 14,
   "id": "b5edd7d5-beec-40d2-9e58-299eb2593b19",
   "metadata": {},
   "outputs": [
    {
     "name": "stdout",
     "output_type": "stream",
     "text": [
      "2\n",
      "4\n",
      "6\n",
      "8\n",
      "10\n"
     ]
    }
   ],
   "source": [
    "numbers =[2, 4, 6, 8, 10, 12, 14, 16,18, 20]\n",
    "l1=iter(numbers)\n",
    "\n",
    "for i in range(5):\n",
    "    print(next(l1))"
   ]
  },
  {
   "cell_type": "markdown",
   "id": "4fb7e35f-4e2d-4d6a-8d91-1ca0ce7f971e",
   "metadata": {},
   "source": [
    "#### 4) What is a generator function in python? Why yield keyword is used? Give an example of a generator function."
   ]
  },
  {
   "cell_type": "markdown",
   "id": "239cf04d-8e90-4949-9bc9-7ab7a114e5f8",
   "metadata": {},
   "source": [
    "A generator function in Python is a special type of function that returns a generator iterator. It allows you to generate a sequence of values over time, rather than generating all the values at once and storing them in memory.\n",
    "\n",
    "The yield keyword is used in a generator function to return a value and pause the function's execution, instead of using the return keyword which would end the function's execution completely. Each time next() is called on the generator, the function resumes from where it left off, and executes until it reaches the next yield statement.\n",
    "\n",
    "Here's an example of a generator function that generates the sequence of even numbers:\n"
   ]
  },
  {
   "cell_type": "code",
   "execution_count": 16,
   "id": "29dd811a-4829-4ab8-9695-4485a85b2548",
   "metadata": {},
   "outputs": [
    {
     "name": "stdout",
     "output_type": "stream",
     "text": [
      "2\n",
      "4\n",
      "6\n",
      "8\n",
      "10\n",
      "12\n",
      "14\n",
      "16\n",
      "18\n",
      "20\n"
     ]
    }
   ],
   "source": [
    "def even_numbers(limit):\n",
    "    for i in range(2, limit+1, 2):\n",
    "        yield i\n",
    "\n",
    "# Create a generator object\n",
    "evens = even_numbers(20)\n",
    "\n",
    "# Use the generator\n",
    "for even in evens:\n",
    "    print(even)\n"
   ]
  },
  {
   "cell_type": "code",
   "execution_count": 17,
   "id": "27842f7b-2055-4d58-81ec-e665398fb4b5",
   "metadata": {},
   "outputs": [
    {
     "name": "stdout",
     "output_type": "stream",
     "text": [
      "1\n",
      "1\n",
      "2\n",
      "3\n",
      "5\n",
      "8\n",
      "13\n",
      "21\n",
      "34\n",
      "55\n"
     ]
    }
   ],
   "source": [
    "def fibonacci_numbers(nums):\n",
    "    x, y = 0, 1\n",
    "    for i in range(nums):\n",
    "        x, y = y, x+y\n",
    "        yield x \n",
    "for i in fibonacci_numbers(10):\n",
    "    print(i)"
   ]
  },
  {
   "cell_type": "markdown",
   "id": "cf03c345-c902-43b4-bac7-a2e97502c8ed",
   "metadata": {},
   "source": [
    "#### 5)Create a generator function for prime numbers less than 1000. Use the next() method to print the first 20 prime numbers."
   ]
  },
  {
   "cell_type": "code",
   "execution_count": 18,
   "id": "bc6bbd6b-6d87-4074-ada8-153aa5a9bfbe",
   "metadata": {},
   "outputs": [
    {
     "name": "stdout",
     "output_type": "stream",
     "text": [
      "2\n",
      "3\n",
      "5\n",
      "7\n",
      "11\n",
      "13\n",
      "17\n",
      "19\n",
      "23\n",
      "29\n",
      "31\n",
      "37\n",
      "41\n",
      "43\n",
      "47\n",
      "53\n",
      "59\n",
      "61\n",
      "67\n",
      "71\n"
     ]
    }
   ],
   "source": [
    "def primes():\n",
    "    yield 2\n",
    "    primes = [2]\n",
    "    n = 3\n",
    "    while n < 1000:\n",
    "        is_prime = True\n",
    "        for prime in primes:\n",
    "            if prime > n ** 0.5:\n",
    "                break\n",
    "            if n % prime == 0:\n",
    "                is_prime = False\n",
    "                break\n",
    "        if is_prime:\n",
    "            primes.append(n)\n",
    "            yield n\n",
    "        n += 2\n",
    "\n",
    "prime_numbers = primes()\n",
    "\n",
    "for i in range(20):\n",
    "    print(next(prime_numbers))"
   ]
  },
  {
   "cell_type": "code",
   "execution_count": null,
   "id": "71816cf0-84cb-470e-b0f3-557f00eed627",
   "metadata": {},
   "outputs": [],
   "source": []
  }
 ],
 "metadata": {
  "kernelspec": {
   "display_name": "Python 3 (ipykernel)",
   "language": "python",
   "name": "python3"
  },
  "language_info": {
   "codemirror_mode": {
    "name": "ipython",
    "version": 3
   },
   "file_extension": ".py",
   "mimetype": "text/x-python",
   "name": "python",
   "nbconvert_exporter": "python",
   "pygments_lexer": "ipython3",
   "version": "3.10.8"
  }
 },
 "nbformat": 4,
 "nbformat_minor": 5
}
