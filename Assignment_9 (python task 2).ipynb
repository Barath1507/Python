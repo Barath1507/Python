{
 "cells": [
  {
   "cell_type": "markdown",
   "id": "40709829-561e-456b-845d-1c61d4348849",
   "metadata": {},
   "source": [
    "## Assignment questions (python task 2)"
   ]
  },
  {
   "cell_type": "markdown",
   "id": "5bb8789d-ae99-46be-a313-64bd8ef8652d",
   "metadata": {},
   "source": [
    "#### Q1. You are writing code for a company. The requirement of the company is that you create a python function that will check whether the password entered by the user is correct or not. The function should take the password as input and return the string “Valid Password” if the entered password follows the below-given password guidelines else it should return “Invalid Password”.\n",
    "#### Note: \n",
    "####       1. The Password should contain at least two uppercase letters and at least two lowercase letters.\n",
    "####       2. The Password should contain at least a number and three special characters.\n",
    "####       3. The length of the password should be 10 characters long."
   ]
  },
  {
   "cell_type": "code",
   "execution_count": 3,
   "id": "be3158a8-ad86-4313-afa6-501a83659c76",
   "metadata": {},
   "outputs": [
    {
     "name": "stdin",
     "output_type": "stream",
     "text": [
      "Enter the password: 123BAlan#@!\n"
     ]
    },
    {
     "name": "stdout",
     "output_type": "stream",
     "text": [
      "Valid Password\n"
     ]
    }
   ],
   "source": [
    "import re\n",
    "password=input(\"Enter the password:\")\n",
    "if (len(password) != 10 and re.search(r'[A-Z]{2,}', password) and re.search(r'[a-z]{2,}', password) and re.search(r'\\d', password) and re.search(r'[!@#$%^&*()_+-=;:\\'\",.<>/?]{3,}', password)):\n",
    "    \n",
    "    print(\"Valid Password\")\n",
    "else:\n",
    "    print(\"Invalid Password\")"
   ]
  },
  {
   "cell_type": "markdown",
   "id": "ca2ac265-8eae-4d9d-a54e-0449fab363cd",
   "metadata": {
    "tags": []
   },
   "source": [
    "#### Q2. Solve the below-given questions using at least one of the following:\n",
    "\n",
    "##### 1.Lambda function \n",
    "##### 2.Filter function\n",
    "##### 3.Zap function\n",
    "##### 4.List Comprehension\n",
    "##### Check if the string starts with a particular letter"
   ]
  },
  {
   "cell_type": "code",
   "execution_count": 7,
   "id": "3405e17e-c146-4b79-a010-316fb7bf70b0",
   "metadata": {},
   "outputs": [
    {
     "name": "stdout",
     "output_type": "stream",
     "text": [
      "['banana']\n"
     ]
    }
   ],
   "source": [
    "string_list = ['apple', 'banana', 'cherry']\n",
    "letter = 'b'\n",
    "result = list(filter(lambda x: x.startswith(letter), string_list))\n",
    "print(result)"
   ]
  },
  {
   "cell_type": "markdown",
   "id": "c3cb272d-a8ed-4d49-bbc4-e9f9047f3497",
   "metadata": {},
   "source": [
    "Check if the string is numeric"
   ]
  },
  {
   "cell_type": "code",
   "execution_count": 11,
   "id": "af4d1a93-0b9f-424f-9741-f2e9b2516478",
   "metadata": {},
   "outputs": [
    {
     "name": "stdout",
     "output_type": "stream",
     "text": [
      "['123456', '789123']\n"
     ]
    }
   ],
   "source": [
    "numeric_list = ['123456', '789123', 'abcdef']\n",
    "result = list(filter(lambda x: x.isnumeric(), numeric_list))\n",
    "print(result)"
   ]
  },
  {
   "cell_type": "markdown",
   "id": "f01b05cd-a7e1-46d8-9d08-c80f06c75703",
   "metadata": {},
   "source": [
    "Sort a list of tuples having fruit names and their quantity. [(\"mango\",99),(\"orange\",80), (\"grapes\", 1000)]"
   ]
  },
  {
   "cell_type": "code",
   "execution_count": 4,
   "id": "82d449f8-b206-436a-8615-6f8212c359aa",
   "metadata": {},
   "outputs": [
    {
     "name": "stdout",
     "output_type": "stream",
     "text": [
      "[('orange', 80), ('mango', 99), ('grapes', 1000)]\n"
     ]
    }
   ],
   "source": [
    "fruits = [(\"mango\",99),(\"orange\",80),(\"grapes\",1000)]\n",
    "result = sorted(fruits, key = lambda x:x[1])\n",
    "print(result)"
   ]
  },
  {
   "cell_type": "markdown",
   "id": "2306c02b-9ecc-4251-8767-2bedfac20455",
   "metadata": {},
   "source": [
    "Find the squares of numbers from 1 to 10"
   ]
  },
  {
   "cell_type": "code",
   "execution_count": 5,
   "id": "b6396df7-51b9-43af-9db8-9cd2d171b7b5",
   "metadata": {},
   "outputs": [
    {
     "name": "stdout",
     "output_type": "stream",
     "text": [
      "[1, 4, 9, 16, 25, 36, 49, 64, 81, 100]\n"
     ]
    }
   ],
   "source": [
    "numbers = [1,2,3,4,5,6,7,8,9,10]\n",
    "result = [i**2 for i in numbers]\n",
    "print(result)"
   ]
  },
  {
   "cell_type": "markdown",
   "id": "aa812222-c247-4d19-b07f-d947f56ff257",
   "metadata": {},
   "source": [
    "Find the cube root of numbers from 1 to 10"
   ]
  },
  {
   "cell_type": "code",
   "execution_count": 7,
   "id": "d4aeed6a-ca68-42f5-abc8-2c73f3a562cb",
   "metadata": {},
   "outputs": [
    {
     "name": "stdout",
     "output_type": "stream",
     "text": [
      "[1.0, 1.2599210498948732, 1.4422495703074083, 1.5874010519681994, 1.7099759466766968, 1.8171205928321397, 1.912931182772389, 2.0, 2.080083823051904, 2.154434690031884]\n"
     ]
    }
   ],
   "source": [
    "numbers = [1,2,3,4,5,6,7,8,9,10]\n",
    "result = [pow(x,1/3) for x in numbers]\n",
    "print(result)"
   ]
  },
  {
   "cell_type": "markdown",
   "id": "0b9a2ee3-3f94-4436-8a10-e4a1d70614d2",
   "metadata": {},
   "source": [
    "Check if a given number is even"
   ]
  },
  {
   "cell_type": "code",
   "execution_count": 17,
   "id": "bbbf93d6-9227-4b62-a761-bc6a9fd27fdf",
   "metadata": {},
   "outputs": [
    {
     "name": "stdout",
     "output_type": "stream",
     "text": [
      "True\n"
     ]
    }
   ],
   "source": [
    "number = 6\n",
    "result = (lambda x: x%2==0)(number)\n",
    "print(result)"
   ]
  },
  {
   "cell_type": "markdown",
   "id": "642beb07-e9a8-45d7-95ba-8ccc9d7fba45",
   "metadata": {},
   "source": [
    "Filter odd numbers from the given list. [1,2,3,4,5,6,7,8,9,10]"
   ]
  },
  {
   "cell_type": "code",
   "execution_count": 21,
   "id": "d0f24835-b050-4608-9495-ded908841d77",
   "metadata": {},
   "outputs": [
    {
     "name": "stdout",
     "output_type": "stream",
     "text": [
      "[1, 3, 5, 7, 9]\n"
     ]
    }
   ],
   "source": [
    "number = [1,2,3,4,5,6,7,8,9,10]\n",
    "odd = list(filter(lambda x: (x%2)!=0, number))\n",
    "print(odd)"
   ]
  },
  {
   "cell_type": "markdown",
   "id": "aecf63ff-a78d-4a19-97a3-3919d3f97754",
   "metadata": {},
   "source": [
    "Sort a list of integers into positive and negative integers lists. [1,2,3,4,5,6,-1,-2,-3,-4,-5,0]"
   ]
  },
  {
   "cell_type": "code",
   "execution_count": 24,
   "id": "a59a57bb-f6b2-4be0-bbdc-af3fd824fa61",
   "metadata": {},
   "outputs": [
    {
     "name": "stdout",
     "output_type": "stream",
     "text": [
      "Positive integers: [1, 2, 3, 4, 5, 6]\n",
      "Negative integers: [-1, -2, -3, -4, -5, 0]\n"
     ]
    }
   ],
   "source": [
    "number = [1,2,3,4,5,6,-1,-2,-3,-4,-5,0]\n",
    "positive_integers = list(filter(lambda x:x>0, number))\n",
    "negative_intergers = list(filter(lambda x:x<=0, number))\n",
    "print(\"Positive integers:\", positive_integers)\n",
    "print(\"Negative integers:\", negative_intergers)"
   ]
  }
 ],
 "metadata": {
  "kernelspec": {
   "display_name": "Python 3 (ipykernel)",
   "language": "python",
   "name": "python3"
  },
  "language_info": {
   "codemirror_mode": {
    "name": "ipython",
    "version": 3
   },
   "file_extension": ".py",
   "mimetype": "text/x-python",
   "name": "python",
   "nbconvert_exporter": "python",
   "pygments_lexer": "ipython3",
   "version": "3.10.8"
  }
 },
 "nbformat": 4,
 "nbformat_minor": 5
}
