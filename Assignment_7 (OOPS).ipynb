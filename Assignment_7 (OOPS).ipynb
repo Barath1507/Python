{
 "cells": [
  {
   "cell_type": "markdown",
   "id": "653ce8dd-ced0-4b70-8530-0993dfcdce46",
   "metadata": {},
   "source": [
    "## Assignment Questions"
   ]
  },
  {
   "cell_type": "markdown",
   "id": "58666fba-f46b-4a27-9eed-0820b040d785",
   "metadata": {},
   "source": [
    "### Q1, Create a vehicle class with an init method having instance variables as name_of_vehicle, max_speed and average_of_vehicle."
   ]
  },
  {
   "cell_type": "code",
   "execution_count": 1,
   "id": "d1408926-7d93-4214-a39b-633777c4a03c",
   "metadata": {},
   "outputs": [],
   "source": [
    "class vehicle:\n",
    "    def __init__(self,name_of_vehicle,max_speed,average_of_vehicle):\n",
    "        self.name_of_vehicle=name_of_vehicle\n",
    "        self.max_speed=max_speed\n",
    "        self.average_of_vehicle=average_of_vehicle"
   ]
  },
  {
   "cell_type": "markdown",
   "id": "971c7df0-b38e-446e-af86-76b68adc4067",
   "metadata": {},
   "source": [
    "### Q2. Create a child class car from the vehicle class created in Que 1, which will inherit the vehicle class. Create a method named seating_capacity which takes capacity as an argument and returns the name of the vehicle and its seating capacity."
   ]
  },
  {
   "cell_type": "code",
   "execution_count": 2,
   "id": "0996109a-ddba-4d1a-99f1-dd2719c28e8e",
   "metadata": {},
   "outputs": [],
   "source": [
    "class car(vehicle):\n",
    "    def seating_capacity(self, capacity):\n",
    "        return self.name_of_vehicle,capacity\n",
    "    "
   ]
  },
  {
   "cell_type": "code",
   "execution_count": 3,
   "id": "f0db6d14-3f90-4ec8-85ea-f5dce4ed77ee",
   "metadata": {},
   "outputs": [],
   "source": [
    "car_obj=car(\"Innova\",200,120)"
   ]
  },
  {
   "cell_type": "code",
   "execution_count": 4,
   "id": "39f3c9ae-f22b-4196-b826-1fcf13bfcddc",
   "metadata": {},
   "outputs": [
    {
     "data": {
      "text/plain": [
       "('Innova', 7)"
      ]
     },
     "execution_count": 4,
     "metadata": {},
     "output_type": "execute_result"
    }
   ],
   "source": [
    "car_obj.seating_capacity(7)"
   ]
  },
  {
   "cell_type": "markdown",
   "id": "b416dc18-43c3-48f8-bc51-014a35bf0d2d",
   "metadata": {},
   "source": [
    "### Q3. What is multiple inheritance? Write a python code to demonstrate multiple inheritance."
   ]
  },
  {
   "cell_type": "markdown",
   "id": "51fe66e3-8e96-4f98-8c9c-7028c1d7864b",
   "metadata": {},
   "source": [
    " where a class can inherit properties and methods from multiple parent classes. It allows a class to inherit attributes and methods from multiple parent classes, rather than just one.\n"
   ]
  },
  {
   "cell_type": "code",
   "execution_count": 5,
   "id": "ca44d197-febc-4472-aca0-a775fd94a541",
   "metadata": {},
   "outputs": [],
   "source": [
    "class school:\n",
    "    def __init__(self,school_name):\n",
    "        self.school_name=school_name\n",
    "        \n",
    "class className:\n",
    "    def __init__(self,class_name,student_name):\n",
    "        self.class_name=class_name\n",
    "        self.student_name=student_name\n",
    "class student(school,className):\n",
    "    def __init__(self,school_name,class_name,student_name,age):\n",
    "        school.__init__(self,school_name)\n",
    "        className.__init__(self,class_name,student_name)\n",
    "        self.age=age\n",
    "    def display(self):\n",
    "        return self.school_name,self.class_name,self.student_name"
   ]
  },
  {
   "cell_type": "code",
   "execution_count": 6,
   "id": "e89b1818-751c-4ff0-b4f7-f8e71f60c05f",
   "metadata": {},
   "outputs": [],
   "source": [
    "student_obj=student(\"St. joseph\",\"7th Class\",\"Barath\",14)"
   ]
  },
  {
   "cell_type": "code",
   "execution_count": 7,
   "id": "c50d8ef1-3c71-45e7-8158-aeacf32345c2",
   "metadata": {},
   "outputs": [
    {
     "data": {
      "text/plain": [
       "('St. joseph', '7th Class', 'Barath')"
      ]
     },
     "execution_count": 7,
     "metadata": {},
     "output_type": "execute_result"
    }
   ],
   "source": [
    "student_obj.display()"
   ]
  },
  {
   "cell_type": "markdown",
   "id": "f1554d64-c86e-4e54-ac5e-f360812f076b",
   "metadata": {},
   "source": [
    "### Q4. What are getter and setter in python? Create a class and create a getter and a setter method in this class.\n",
    "\n",
    "Answer: Getters and setters are methods in Python classes that allow you to get and set the values of an object's attributes, respectively. The getter method returns the value of an attribute, while the setter method sets the value of an attribute."
   ]
  },
  {
   "cell_type": "code",
   "execution_count": 8,
   "id": "d6a54aa9-9171-4784-97c2-17b01a2e2062",
   "metadata": {},
   "outputs": [
    {
     "name": "stdout",
     "output_type": "stream",
     "text": [
      "Name: Barath\n",
      "Name: Sathish\n"
     ]
    }
   ],
   "source": [
    "class Person:\n",
    "    def __init__(self, name):\n",
    "        self.__name = name\n",
    "\n",
    "    def get_name(self):\n",
    "        return self.__name\n",
    "\n",
    "    def set_name(self, name):\n",
    "        self.__name = name\n",
    "\n",
    "person = Person(\"Barath\")\n",
    "print(\"Name:\", person.get_name())\n",
    "\n",
    "person.set_name(\"Sathish\")\n",
    "print(\"Name:\", person.get_name())"
   ]
  },
  {
   "cell_type": "markdown",
   "id": "cac88290-3c9b-4795-a94b-008970814924",
   "metadata": {},
   "source": [
    "### Q5.What is method overriding in python? Write a python code to demonstrate method overriding.\n",
    "\n",
    "Answer : Method overriding in Python is a feature that allows a subclass to provide a different implementation of a method that is already defined in its superclass. This allows the subclass to inherit the attributes and behaviors of the superclass, but with specific modifications."
   ]
  },
  {
   "cell_type": "code",
   "execution_count": 11,
   "id": "04cfaa4e-d535-42c9-9f07-43e484fe8dc5",
   "metadata": {},
   "outputs": [
    {
     "name": "stdout",
     "output_type": "stream",
     "text": [
      "This display method belongs to class B\n"
     ]
    }
   ],
   "source": [
    "class A:\n",
    "    def display(self):\n",
    "        print(\"This display method belongs to class A\")\n",
    "class B(A):\n",
    "    def display(self): # using the same method name as class A so that it will override the dislay() method of Class A\n",
    "        print(\"This display method belongs to class B\")\n",
    "obj_b=B()\n",
    "obj_b.display() \n",
    "    "
   ]
  }
 ],
 "metadata": {
  "kernelspec": {
   "display_name": "Python 3 (ipykernel)",
   "language": "python",
   "name": "python3"
  },
  "language_info": {
   "codemirror_mode": {
    "name": "ipython",
    "version": 3
   },
   "file_extension": ".py",
   "mimetype": "text/x-python",
   "name": "python",
   "nbconvert_exporter": "python",
   "pygments_lexer": "ipython3",
   "version": "3.10.8"
  }
 },
 "nbformat": 4,
 "nbformat_minor": 5
}
