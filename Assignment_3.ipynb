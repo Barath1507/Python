{
 "cells": [
  {
   "cell_type": "markdown",
   "id": "a68bcc12-6afa-4803-bc4e-b3ae47c52c42",
   "metadata": {},
   "source": [
    "# Assignment Questions"
   ]
  },
  {
   "cell_type": "markdown",
   "id": "52e14dce-bbb3-4d12-b9f4-cb6a35c49ff1",
   "metadata": {},
   "source": [
    "#### 1) What are the characteristics of the tuples? Is tuple immutable?"
   ]
  },
  {
   "cell_type": "markdown",
   "id": "8e55357a-d61d-42d9-a790-731e42531670",
   "metadata": {},
   "source": [
    "Tuples are a built-in data type in Python used to store an ordered and immutable collection of items. Here are some of the key characteristics of tuples in Python:\n",
    "\n",
    "Immutable: Once a tuple is created, its values cannot be changed. This means that you cannot add, remove, or modify the elements of a tuple.\n",
    "\n",
    "Ordered: The items in a tuple have a specific order, and the position of each item is preserved when the tuple is created.\n",
    "\n",
    "Heterogeneous: Tuples can contain items of different data types. For example, a tuple could contain a string, an integer, and a floating-point number.\n",
    "\n",
    "Indexed: You can access the elements of a tuple by their index, starting from 0.\n",
    "\n",
    "Iterable: You can loop through the elements of a tuple using a for loop.\n",
    "\n",
    "Hashable: Tuples are hashable, meaning that you can use them as keys in dictionaries.\n",
    "\n",
    "Limited: Tuples have a limited set of built-in methods, compared to lists or dictionaries.\n",
    "\n",
    "In conclusion, tuples are a versatile data type that can be used to store and manipulate a small, fixed number of items. Their immutability makes them useful for representing values that should not be changed, such as dates or coordinate points.\n"
   ]
  },
  {
   "cell_type": "markdown",
   "id": "1bf0b5c4-6d9a-4be2-8bbe-fbd6af6f1cb8",
   "metadata": {},
   "source": [
    "#### 2) What are the two tuple methods in python? Give an example of each method. Give a reason why tuples have only two in-built methods as compared to Lists."
   ]
  },
  {
   "cell_type": "markdown",
   "id": "fda2dbe0-08cc-4d13-ae5c-d6de8eabdb9d",
   "metadata": {},
   "source": [
    "Tuples in Python have two built-in methods:\n",
    "\n",
    "count(x): This method returns the number of times x appears in the tuple.\n",
    "\n",
    "Example:"
   ]
  },
  {
   "cell_type": "code",
   "execution_count": 1,
   "id": "b491f2de-2641-4137-a166-03071d6bc0b0",
   "metadata": {},
   "outputs": [
    {
     "name": "stdout",
     "output_type": "stream",
     "text": [
      "2\n"
     ]
    }
   ],
   "source": [
    "t = (1, 2, 3, 4, 1, 2)\n",
    "print(t.count(1))  # Output: 2"
   ]
  },
  {
   "cell_type": "markdown",
   "id": "50e9b7dc-a8f8-43d6-8791-b2273d0da493",
   "metadata": {},
   "source": [
    "index(x): This method returns the index of the first occurrence of x in the tuple.\n",
    "\n",
    "Example:"
   ]
  },
  {
   "cell_type": "code",
   "execution_count": 2,
   "id": "9d1ed3c0-3258-48a5-bba2-89c83a8356b9",
   "metadata": {},
   "outputs": [
    {
     "name": "stdout",
     "output_type": "stream",
     "text": [
      "2\n"
     ]
    }
   ],
   "source": [
    "t = (1, 2, 3, 4, 1, 2)\n",
    "print(t.index(3))  # Output: 2"
   ]
  },
  {
   "cell_type": "markdown",
   "id": "8746c2ae-9a80-47ac-9dd4-94215bed0f39",
   "metadata": {},
   "source": [
    "Tuples have only two built-in methods because they are designed to be simple, ordered, and immutable collections of items. Their primary purpose is to store data, and the two built-in methods provide basic functionality for finding elements within the tuple.\n",
    "\n",
    "In contrast, lists in Python have many more built-in methods because they are designed to be more flexible and mutable. Lists can be used for a wider range of purposes, such as sorting, adding, and removing elements, and therefore have more methods to support these operations."
   ]
  },
  {
   "cell_type": "markdown",
   "id": "491f1241-10d0-4b93-8093-a3e7bd371c4f",
   "metadata": {},
   "source": [
    "#### 3) Which collection datatypes in python do not allow duplicate items? Write a code using a set to remove duplicates from the given list.\n",
    "List = [1, 1, 1, 2, 1, 3, 1, 4, 2, 1, 2, 2, 2, 3, 2, 4, 3, 1, 3, 2, 3, 3, 3, 4, 4, 1, 4, 2, 4, 3, 4, 4]"
   ]
  },
  {
   "cell_type": "markdown",
   "id": "bdc9888b-2671-4987-9853-3f6a9c7b35a4",
   "metadata": {},
   "source": [
    "The set datatype in Python does not allow duplicate items. A set is an unordered collection of unique elements."
   ]
  },
  {
   "cell_type": "code",
   "execution_count": 3,
   "id": "b37ab6d0-0e70-4b71-9da7-3d6eae338e36",
   "metadata": {
    "tags": []
   },
   "outputs": [
    {
     "name": "stdout",
     "output_type": "stream",
     "text": [
      "Old list: [1, 1, 1, 2, 1, 3, 1, 4, 2, 1, 2, 2, 2, 3, 2, 4, 3, 1, 3, 2, 3, 3, 3, 4, 4, 1, 4, 2, 4, 3, 4, 4]\n",
      "New List: [1, 2, 3, 4]\n"
     ]
    }
   ],
   "source": [
    "List = [1, 1, 1, 2, 1, 3, 1, 4, 2, 1, 2, 2, 2, 3, 2, 4, 3, 1, 3, 2, 3, 3, 3, 4, 4, 1, 4, 2, 4, 3, 4, 4]\n",
    "new_list = list(set(List))\n",
    "\n",
    "print(\"Old list:\", List)\n",
    "print(\"New List:\", new_list)"
   ]
  },
  {
   "cell_type": "markdown",
   "id": "8116e394-8830-4bcd-9958-d065b53c9b9a",
   "metadata": {},
   "source": [
    "#### 4) Explain the difference between the union() and update() methods for a set. Give an example of each method."
   ]
  },
  {
   "cell_type": "markdown",
   "id": "0d452d0e-82ba-48f1-9885-19ff23139470",
   "metadata": {},
   "source": [
    "The union() and update() methods are used to combine two sets in Python, but they work differently.\n",
    "\n",
    "union() method: This method returns a new set that contains all the elements from both sets, without any duplicates. The original sets remain unchanged."
   ]
  },
  {
   "cell_type": "code",
   "execution_count": 4,
   "id": "8dfccf33-3b33-4878-a173-a700844f98be",
   "metadata": {},
   "outputs": [
    {
     "name": "stdout",
     "output_type": "stream",
     "text": [
      "Set 1: {1, 2, 3, 4}\n",
      "Set 2: {3, 4, 5, 6}\n",
      "Union of Set 1 and Set 2: {1, 2, 3, 4, 5, 6}\n"
     ]
    }
   ],
   "source": [
    "set1 = {1, 2, 3, 4}\n",
    "set2 = {3, 4, 5, 6}\n",
    "\n",
    "new_set = set1.union(set2)\n",
    "print(\"Set 1:\", set1)\n",
    "print(\"Set 2:\", set2)\n",
    "print(\"Union of Set 1 and Set 2:\", new_set)"
   ]
  },
  {
   "cell_type": "markdown",
   "id": "72351de2-883a-484a-9563-52fc72e86654",
   "metadata": {},
   "source": [
    "update() method: This method updates the original set by adding all the elements from another set. If there are duplicates, the duplicates are retained in the original set.\n",
    "\n",
    "Example:"
   ]
  },
  {
   "cell_type": "code",
   "execution_count": 5,
   "id": "d9620543-1ea6-46d0-8557-54ade0391b29",
   "metadata": {},
   "outputs": [
    {
     "name": "stdout",
     "output_type": "stream",
     "text": [
      "Set 1: {1, 2, 3, 4, 5, 6}\n",
      "Set 2: {3, 4, 5, 6}\n"
     ]
    }
   ],
   "source": [
    "set1 = {1, 2, 3, 4}\n",
    "set2 = {3, 4, 5, 6}\n",
    "\n",
    "set1.update(set2)\n",
    "print(\"Set 1:\", set1)\n",
    "print(\"Set 2:\", set2)"
   ]
  },
  {
   "cell_type": "markdown",
   "id": "b147d0e5-7ff3-4de2-abd9-cc5b2d52081b",
   "metadata": {},
   "source": [
    "As you can see from the output, the update() method has added all the elements from set2 to set1, resulting in set1 containing all the elements from both sets. The original set2 remains unchanged."
   ]
  },
  {
   "cell_type": "markdown",
   "id": "b1257a8c-7320-4993-8552-d435b7c3a393",
   "metadata": {},
   "source": [
    "#### 5) What is a dictionary? Give an example. Also, state whether a dictionary is ordered or unordered."
   ]
  },
  {
   "cell_type": "markdown",
   "id": "2c3b4e6d-9717-45ab-868d-f5d1ec7429f2",
   "metadata": {},
   "source": [
    "A dictionary is a collection of key-value pairs, where each key is unique and used to retrieve its corresponding value. Example: d = {'name': 'John', 'age': 30}. In this example, 'name' and 'age' are keys and 'John' and 30 are values.\n",
    "\n",
    "In Python, dictionaries are unordered. The order in which the items are added to the dictionary may not be preserved. It is mutable"
   ]
  },
  {
   "cell_type": "code",
   "execution_count": 9,
   "id": "83d11638-a1d3-4025-90f7-0a639680fed6",
   "metadata": {},
   "outputs": [
    {
     "name": "stdout",
     "output_type": "stream",
     "text": [
      "{'name': 'Barath P', 'age': 18, 'Professional': 'student'}\n"
     ]
    }
   ],
   "source": [
    "d = {'name': 'Barath P', 'age': 18, \"Professional\":\"student\"}\n",
    "print(d)"
   ]
  },
  {
   "cell_type": "markdown",
   "id": "1d672fb1-b44d-4c44-81a8-c4eecd669fd5",
   "metadata": {},
   "source": [
    "#### 6) Can we create a nested dictionary? If so, please give an example by creating a simple one-level nested dictionary.\n",
    "A nested dictionary is a dictionary that contains one or more dictionaries as values.\n",
    "\n",
    "Example:"
   ]
  },
  {
   "cell_type": "code",
   "execution_count": 11,
   "id": "f9fad1e6-2774-4aab-95fa-2582d9afe57a",
   "metadata": {},
   "outputs": [
    {
     "data": {
      "text/plain": [
       "{'customer1': {'name': 'Barath', 'date_of_birth': 2002},\n",
       " 'customer2': {'name': 'sathish', 'item_bought': 'Bike'},\n",
       " 'customer3': {'name': 'Jayasree', 'type': 'Retail'}}"
      ]
     },
     "execution_count": 11,
     "metadata": {},
     "output_type": "execute_result"
    }
   ],
   "source": [
    "customer_details = { \"customer1\" : {\"name\" : \"Barath\",\"date_of_birth\" : 2002}, \n",
    "                    \"customer2\" : {\"name\" : \"sathish\", \"item_bought\" : \"Bike\"},\n",
    "                    \"customer3\" : {\"name\" : \"Hema\",\"item_bought\" : \"\" }}\n",
    "customer_details"
   ]
  },
  {
   "cell_type": "markdown",
   "id": "92fe8fe2-04a9-4fb2-8236-7e0997537159",
   "metadata": {},
   "source": [
    "#### 7) Using setdefault() method, create key named topics in the given dictionary and also add the value ofthe key as this list ['Python', 'Machine Learning’, 'Deep Learning']\n",
    "#### dict1 = {'language' : 'Python', 'course': 'Data Science Masters'}"
   ]
  },
  {
   "cell_type": "code",
   "execution_count": 13,
   "id": "211392f0-f295-40c3-aba8-70f801b54f3a",
   "metadata": {},
   "outputs": [
    {
     "data": {
      "text/plain": [
       "{'language': 'Python',\n",
       " 'course': 'Data Science Masters',\n",
       " 'topics': ['Python', 'Machine Learning', 'Deep Learning']}"
      ]
     },
     "execution_count": 13,
     "metadata": {},
     "output_type": "execute_result"
    }
   ],
   "source": [
    "dict1 = {'language' : 'Python', 'course': 'Data Science Masters'}\n",
    "    dict1.setdefault(\"topics\",[\"Python\",\"Machine Learning\",\"Deep Learning\"])\n",
    "dict1"
   ]
  },
  {
   "cell_type": "markdown",
   "id": "0f2530a3-bfb5-4f9e-aa9b-b8295bcfa41e",
   "metadata": {},
   "source": [
    "#### 8) What are the three view objects in dictionaries? Use the three in-built methods in python to display these three view objects for the given dictionary.\n",
    "#### dict1 = {'Sport': 'Cricket' , 'Teams': ['India', 'Australia', 'England', 'South Africa', 'Sri Lanka', 'New Zealand']}"
   ]
  },
  {
   "cell_type": "markdown",
   "id": "cac5f6b8-5ebf-4782-908a-292bf8d853c6",
   "metadata": {},
   "source": [
    "i)  keys(): returns a view object that displays a list of all the keys in the dictionary.\n",
    "\n",
    "ii) values(): returns a view object that displays a list of all the values in the dictionary.\n",
    "\n",
    "iii)items(): returns a view object that displays a list of all the key-value pairs in the dictionary as tuples."
   ]
  },
  {
   "cell_type": "code",
   "execution_count": 16,
   "id": "9c048f9b-45b4-4315-abee-f2ff0686b2cc",
   "metadata": {},
   "outputs": [
    {
     "name": "stdout",
     "output_type": "stream",
     "text": [
      "dict_keys(['Sport', 'Teams'])\n",
      "dict_values(['Cricket', ['India', 'Australia', 'England', 'South Africa', 'Sri Lanka', 'New Zealand']])\n",
      "dict_items([('Sport', 'Cricket'), ('Teams', ['India', 'Australia', 'England', 'South Africa', 'Sri Lanka', 'New Zealand'])])\n"
     ]
    }
   ],
   "source": [
    "dict1 = {'Sport': 'Cricket' , 'Teams': ['India', 'Australia', 'England', 'South Africa', 'Sri Lanka', 'New Zealand']}\n",
    "print(dict1.keys())\n",
    "print(dict1.values())\n",
    "print(dict1.items())"
   ]
  }
 ],
 "metadata": {
  "kernelspec": {
   "display_name": "Python 3 (ipykernel)",
   "language": "python",
   "name": "python3"
  },
  "language_info": {
   "codemirror_mode": {
    "name": "ipython",
    "version": 3
   },
   "file_extension": ".py",
   "mimetype": "text/x-python",
   "name": "python",
   "nbconvert_exporter": "python",
   "pygments_lexer": "ipython3",
   "version": "3.10.8"
  }
 },
 "nbformat": 4,
 "nbformat_minor": 5
}
